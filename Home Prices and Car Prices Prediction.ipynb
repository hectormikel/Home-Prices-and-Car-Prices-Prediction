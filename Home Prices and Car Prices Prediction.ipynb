{
 "cells": [
  {
   "cell_type": "markdown",
   "metadata": {},
   "source": [
    "# Home Prices and Car Prices Prediction"
   ]
  },
  {
   "cell_type": "markdown",
   "metadata": {},
   "source": [
    "## Home Prices"
   ]
  },
  {
   "cell_type": "code",
   "execution_count": 69,
   "metadata": {},
   "outputs": [],
   "source": [
    "import pandas as pd \n",
    "import polars as pl \n",
    "from sklearn.preprocessing import LabelEncoder\n",
    "from sklearn.linear_model import LinearRegression\n",
    "from sklearn.preprocessing import OneHotEncoder\n",
    "from sklearn.compose import ColumnTransformer"
   ]
  },
  {
   "cell_type": "code",
   "execution_count": 32,
   "metadata": {},
   "outputs": [
    {
     "data": {
      "text/html": [
       "<div><style>\n",
       ".dataframe > thead > tr,\n",
       ".dataframe > tbody > tr {\n",
       "  text-align: right;\n",
       "  white-space: pre-wrap;\n",
       "}\n",
       "</style>\n",
       "<small>shape: (13, 3)</small><table border=\"1\" class=\"dataframe\"><thead><tr><th>town</th><th>area</th><th>price</th></tr><tr><td>str</td><td>i64</td><td>i64</td></tr></thead><tbody><tr><td>&quot;monroe township&quot;</td><td>2600</td><td>550000</td></tr><tr><td>&quot;monroe township&quot;</td><td>3000</td><td>565000</td></tr><tr><td>&quot;monroe township&quot;</td><td>3200</td><td>610000</td></tr><tr><td>&quot;monroe township&quot;</td><td>3600</td><td>680000</td></tr><tr><td>&quot;monroe township&quot;</td><td>4000</td><td>725000</td></tr><tr><td>&hellip;</td><td>&hellip;</td><td>&hellip;</td></tr><tr><td>&quot;west windsor&quot;</td><td>3600</td><td>710000</td></tr><tr><td>&quot;robinsville&quot;</td><td>2600</td><td>575000</td></tr><tr><td>&quot;robinsville&quot;</td><td>2900</td><td>600000</td></tr><tr><td>&quot;robinsville&quot;</td><td>3100</td><td>620000</td></tr><tr><td>&quot;robinsville&quot;</td><td>3600</td><td>695000</td></tr></tbody></table></div>"
      ],
      "text/plain": [
       "shape: (13, 3)\n",
       "┌─────────────────┬──────┬────────┐\n",
       "│ town            ┆ area ┆ price  │\n",
       "│ ---             ┆ ---  ┆ ---    │\n",
       "│ str             ┆ i64  ┆ i64    │\n",
       "╞═════════════════╪══════╪════════╡\n",
       "│ monroe township ┆ 2600 ┆ 550000 │\n",
       "│ monroe township ┆ 3000 ┆ 565000 │\n",
       "│ monroe township ┆ 3200 ┆ 610000 │\n",
       "│ monroe township ┆ 3600 ┆ 680000 │\n",
       "│ monroe township ┆ 4000 ┆ 725000 │\n",
       "│ …               ┆ …    ┆ …      │\n",
       "│ west windsor    ┆ 3600 ┆ 710000 │\n",
       "│ robinsville     ┆ 2600 ┆ 575000 │\n",
       "│ robinsville     ┆ 2900 ┆ 600000 │\n",
       "│ robinsville     ┆ 3100 ┆ 620000 │\n",
       "│ robinsville     ┆ 3600 ┆ 695000 │\n",
       "└─────────────────┴──────┴────────┘"
      ]
     },
     "execution_count": 32,
     "metadata": {},
     "output_type": "execute_result"
    }
   ],
   "source": [
    "df = pl.read_csv('homeprices_dummy.csv')\n",
    "df "
   ]
  },
  {
   "cell_type": "code",
   "execution_count": 33,
   "metadata": {},
   "outputs": [
    {
     "data": {
      "text/html": [
       "<div><style>\n",
       ".dataframe > thead > tr,\n",
       ".dataframe > tbody > tr {\n",
       "  text-align: right;\n",
       "  white-space: pre-wrap;\n",
       "}\n",
       "</style>\n",
       "<small>shape: (13, 3)</small><table border=\"1\" class=\"dataframe\"><thead><tr><th>town_monroe township</th><th>town_robinsville</th><th>town_west windsor</th></tr><tr><td>u8</td><td>u8</td><td>u8</td></tr></thead><tbody><tr><td>1</td><td>0</td><td>0</td></tr><tr><td>1</td><td>0</td><td>0</td></tr><tr><td>1</td><td>0</td><td>0</td></tr><tr><td>1</td><td>0</td><td>0</td></tr><tr><td>1</td><td>0</td><td>0</td></tr><tr><td>&hellip;</td><td>&hellip;</td><td>&hellip;</td></tr><tr><td>0</td><td>0</td><td>1</td></tr><tr><td>0</td><td>1</td><td>0</td></tr><tr><td>0</td><td>1</td><td>0</td></tr><tr><td>0</td><td>1</td><td>0</td></tr><tr><td>0</td><td>1</td><td>0</td></tr></tbody></table></div>"
      ],
      "text/plain": [
       "shape: (13, 3)\n",
       "┌──────────────────────┬──────────────────┬───────────────────┐\n",
       "│ town_monroe township ┆ town_robinsville ┆ town_west windsor │\n",
       "│ ---                  ┆ ---              ┆ ---               │\n",
       "│ u8                   ┆ u8               ┆ u8                │\n",
       "╞══════════════════════╪══════════════════╪═══════════════════╡\n",
       "│ 1                    ┆ 0                ┆ 0                 │\n",
       "│ 1                    ┆ 0                ┆ 0                 │\n",
       "│ 1                    ┆ 0                ┆ 0                 │\n",
       "│ 1                    ┆ 0                ┆ 0                 │\n",
       "│ 1                    ┆ 0                ┆ 0                 │\n",
       "│ …                    ┆ …                ┆ …                 │\n",
       "│ 0                    ┆ 0                ┆ 1                 │\n",
       "│ 0                    ┆ 1                ┆ 0                 │\n",
       "│ 0                    ┆ 1                ┆ 0                 │\n",
       "│ 0                    ┆ 1                ┆ 0                 │\n",
       "│ 0                    ┆ 1                ┆ 0                 │\n",
       "└──────────────────────┴──────────────────┴───────────────────┘"
      ]
     },
     "execution_count": 33,
     "metadata": {},
     "output_type": "execute_result"
    }
   ],
   "source": [
    "# dummies = pd.get_dummies(df['town'])\n",
    "# dummies\n",
    "\n",
    "dummies = df[\"town\"].to_dummies()\n",
    "dummies"
   ]
  },
  {
   "cell_type": "code",
   "execution_count": 34,
   "metadata": {},
   "outputs": [],
   "source": [
    "## if pandas\n",
    "# merged = pd.concat([df, dummies], axis = 'columns')"
   ]
  },
  {
   "cell_type": "code",
   "execution_count": 35,
   "metadata": {},
   "outputs": [
    {
     "data": {
      "text/html": [
       "<div><style>\n",
       ".dataframe > thead > tr,\n",
       ".dataframe > tbody > tr {\n",
       "  text-align: right;\n",
       "  white-space: pre-wrap;\n",
       "}\n",
       "</style>\n",
       "<small>shape: (13, 6)</small><table border=\"1\" class=\"dataframe\"><thead><tr><th>town</th><th>area</th><th>price</th><th>town_monroe township</th><th>town_robinsville</th><th>town_west windsor</th></tr><tr><td>str</td><td>i64</td><td>i64</td><td>u8</td><td>u8</td><td>u8</td></tr></thead><tbody><tr><td>&quot;monroe township&quot;</td><td>2600</td><td>550000</td><td>1</td><td>0</td><td>0</td></tr><tr><td>&quot;monroe township&quot;</td><td>3000</td><td>565000</td><td>1</td><td>0</td><td>0</td></tr><tr><td>&quot;monroe township&quot;</td><td>3200</td><td>610000</td><td>1</td><td>0</td><td>0</td></tr><tr><td>&quot;monroe township&quot;</td><td>3600</td><td>680000</td><td>1</td><td>0</td><td>0</td></tr><tr><td>&quot;monroe township&quot;</td><td>4000</td><td>725000</td><td>1</td><td>0</td><td>0</td></tr><tr><td>&hellip;</td><td>&hellip;</td><td>&hellip;</td><td>&hellip;</td><td>&hellip;</td><td>&hellip;</td></tr><tr><td>&quot;west windsor&quot;</td><td>3600</td><td>710000</td><td>0</td><td>0</td><td>1</td></tr><tr><td>&quot;robinsville&quot;</td><td>2600</td><td>575000</td><td>0</td><td>1</td><td>0</td></tr><tr><td>&quot;robinsville&quot;</td><td>2900</td><td>600000</td><td>0</td><td>1</td><td>0</td></tr><tr><td>&quot;robinsville&quot;</td><td>3100</td><td>620000</td><td>0</td><td>1</td><td>0</td></tr><tr><td>&quot;robinsville&quot;</td><td>3600</td><td>695000</td><td>0</td><td>1</td><td>0</td></tr></tbody></table></div>"
      ],
      "text/plain": [
       "shape: (13, 6)\n",
       "┌─────────────────┬──────┬────────┬──────────────────────┬──────────────────┬───────────────────┐\n",
       "│ town            ┆ area ┆ price  ┆ town_monroe township ┆ town_robinsville ┆ town_west windsor │\n",
       "│ ---             ┆ ---  ┆ ---    ┆ ---                  ┆ ---              ┆ ---               │\n",
       "│ str             ┆ i64  ┆ i64    ┆ u8                   ┆ u8               ┆ u8                │\n",
       "╞═════════════════╪══════╪════════╪══════════════════════╪══════════════════╪═══════════════════╡\n",
       "│ monroe township ┆ 2600 ┆ 550000 ┆ 1                    ┆ 0                ┆ 0                 │\n",
       "│ monroe township ┆ 3000 ┆ 565000 ┆ 1                    ┆ 0                ┆ 0                 │\n",
       "│ monroe township ┆ 3200 ┆ 610000 ┆ 1                    ┆ 0                ┆ 0                 │\n",
       "│ monroe township ┆ 3600 ┆ 680000 ┆ 1                    ┆ 0                ┆ 0                 │\n",
       "│ monroe township ┆ 4000 ┆ 725000 ┆ 1                    ┆ 0                ┆ 0                 │\n",
       "│ …               ┆ …    ┆ …      ┆ …                    ┆ …                ┆ …                 │\n",
       "│ west windsor    ┆ 3600 ┆ 710000 ┆ 0                    ┆ 0                ┆ 1                 │\n",
       "│ robinsville     ┆ 2600 ┆ 575000 ┆ 0                    ┆ 1                ┆ 0                 │\n",
       "│ robinsville     ┆ 2900 ┆ 600000 ┆ 0                    ┆ 1                ┆ 0                 │\n",
       "│ robinsville     ┆ 3100 ┆ 620000 ┆ 0                    ┆ 1                ┆ 0                 │\n",
       "│ robinsville     ┆ 3600 ┆ 695000 ┆ 0                    ┆ 1                ┆ 0                 │\n",
       "└─────────────────┴──────┴────────┴──────────────────────┴──────────────────┴───────────────────┘"
      ]
     },
     "execution_count": 35,
     "metadata": {},
     "output_type": "execute_result"
    }
   ],
   "source": [
    "# for polars \n",
    "merged = pl.concat([df, dummies], how=\"horizontal\")\n",
    "merged"
   ]
  },
  {
   "cell_type": "code",
   "execution_count": 36,
   "metadata": {},
   "outputs": [
    {
     "data": {
      "text/html": [
       "<div><style>\n",
       ".dataframe > thead > tr,\n",
       ".dataframe > tbody > tr {\n",
       "  text-align: right;\n",
       "  white-space: pre-wrap;\n",
       "}\n",
       "</style>\n",
       "<small>shape: (13, 4)</small><table border=\"1\" class=\"dataframe\"><thead><tr><th>area</th><th>price</th><th>town_monroe township</th><th>town_robinsville</th></tr><tr><td>i64</td><td>i64</td><td>u8</td><td>u8</td></tr></thead><tbody><tr><td>2600</td><td>550000</td><td>1</td><td>0</td></tr><tr><td>3000</td><td>565000</td><td>1</td><td>0</td></tr><tr><td>3200</td><td>610000</td><td>1</td><td>0</td></tr><tr><td>3600</td><td>680000</td><td>1</td><td>0</td></tr><tr><td>4000</td><td>725000</td><td>1</td><td>0</td></tr><tr><td>&hellip;</td><td>&hellip;</td><td>&hellip;</td><td>&hellip;</td></tr><tr><td>3600</td><td>710000</td><td>0</td><td>0</td></tr><tr><td>2600</td><td>575000</td><td>0</td><td>1</td></tr><tr><td>2900</td><td>600000</td><td>0</td><td>1</td></tr><tr><td>3100</td><td>620000</td><td>0</td><td>1</td></tr><tr><td>3600</td><td>695000</td><td>0</td><td>1</td></tr></tbody></table></div>"
      ],
      "text/plain": [
       "shape: (13, 4)\n",
       "┌──────┬────────┬──────────────────────┬──────────────────┐\n",
       "│ area ┆ price  ┆ town_monroe township ┆ town_robinsville │\n",
       "│ ---  ┆ ---    ┆ ---                  ┆ ---              │\n",
       "│ i64  ┆ i64    ┆ u8                   ┆ u8               │\n",
       "╞══════╪════════╪══════════════════════╪══════════════════╡\n",
       "│ 2600 ┆ 550000 ┆ 1                    ┆ 0                │\n",
       "│ 3000 ┆ 565000 ┆ 1                    ┆ 0                │\n",
       "│ 3200 ┆ 610000 ┆ 1                    ┆ 0                │\n",
       "│ 3600 ┆ 680000 ┆ 1                    ┆ 0                │\n",
       "│ 4000 ┆ 725000 ┆ 1                    ┆ 0                │\n",
       "│ …    ┆ …      ┆ …                    ┆ …                │\n",
       "│ 3600 ┆ 710000 ┆ 0                    ┆ 0                │\n",
       "│ 2600 ┆ 575000 ┆ 0                    ┆ 1                │\n",
       "│ 2900 ┆ 600000 ┆ 0                    ┆ 1                │\n",
       "│ 3100 ┆ 620000 ┆ 0                    ┆ 1                │\n",
       "│ 3600 ┆ 695000 ┆ 0                    ┆ 1                │\n",
       "└──────┴────────┴──────────────────────┴──────────────────┘"
      ]
     },
     "execution_count": 36,
     "metadata": {},
     "output_type": "execute_result"
    }
   ],
   "source": [
    "merged = merged.drop(['town', 'town_west windsor'])\n",
    "merged "
   ]
  },
  {
   "cell_type": "code",
   "execution_count": 38,
   "metadata": {},
   "outputs": [],
   "source": [
    "model = LinearRegression()"
   ]
  },
  {
   "cell_type": "code",
   "execution_count": 39,
   "metadata": {},
   "outputs": [
    {
     "data": {
      "text/html": [
       "<div><style>\n",
       ".dataframe > thead > tr,\n",
       ".dataframe > tbody > tr {\n",
       "  text-align: right;\n",
       "  white-space: pre-wrap;\n",
       "}\n",
       "</style>\n",
       "<small>shape: (13, 3)</small><table border=\"1\" class=\"dataframe\"><thead><tr><th>area</th><th>town_monroe township</th><th>town_robinsville</th></tr><tr><td>i64</td><td>u8</td><td>u8</td></tr></thead><tbody><tr><td>2600</td><td>1</td><td>0</td></tr><tr><td>3000</td><td>1</td><td>0</td></tr><tr><td>3200</td><td>1</td><td>0</td></tr><tr><td>3600</td><td>1</td><td>0</td></tr><tr><td>4000</td><td>1</td><td>0</td></tr><tr><td>&hellip;</td><td>&hellip;</td><td>&hellip;</td></tr><tr><td>3600</td><td>0</td><td>0</td></tr><tr><td>2600</td><td>0</td><td>1</td></tr><tr><td>2900</td><td>0</td><td>1</td></tr><tr><td>3100</td><td>0</td><td>1</td></tr><tr><td>3600</td><td>0</td><td>1</td></tr></tbody></table></div>"
      ],
      "text/plain": [
       "shape: (13, 3)\n",
       "┌──────┬──────────────────────┬──────────────────┐\n",
       "│ area ┆ town_monroe township ┆ town_robinsville │\n",
       "│ ---  ┆ ---                  ┆ ---              │\n",
       "│ i64  ┆ u8                   ┆ u8               │\n",
       "╞══════╪══════════════════════╪══════════════════╡\n",
       "│ 2600 ┆ 1                    ┆ 0                │\n",
       "│ 3000 ┆ 1                    ┆ 0                │\n",
       "│ 3200 ┆ 1                    ┆ 0                │\n",
       "│ 3600 ┆ 1                    ┆ 0                │\n",
       "│ 4000 ┆ 1                    ┆ 0                │\n",
       "│ …    ┆ …                    ┆ …                │\n",
       "│ 3600 ┆ 0                    ┆ 0                │\n",
       "│ 2600 ┆ 0                    ┆ 1                │\n",
       "│ 2900 ┆ 0                    ┆ 1                │\n",
       "│ 3100 ┆ 0                    ┆ 1                │\n",
       "│ 3600 ┆ 0                    ┆ 1                │\n",
       "└──────┴──────────────────────┴──────────────────┘"
      ]
     },
     "execution_count": 39,
     "metadata": {},
     "output_type": "execute_result"
    }
   ],
   "source": [
    "X = merged.drop('price')\n",
    "X "
   ]
  },
  {
   "cell_type": "code",
   "execution_count": 40,
   "metadata": {},
   "outputs": [
    {
     "data": {
      "text/html": [
       "<div><style>\n",
       ".dataframe > thead > tr,\n",
       ".dataframe > tbody > tr {\n",
       "  text-align: right;\n",
       "  white-space: pre-wrap;\n",
       "}\n",
       "</style>\n",
       "<small>shape: (13,)</small><table border=\"1\" class=\"dataframe\"><thead><tr><th>price</th></tr><tr><td>i64</td></tr></thead><tbody><tr><td>550000</td></tr><tr><td>565000</td></tr><tr><td>610000</td></tr><tr><td>680000</td></tr><tr><td>725000</td></tr><tr><td>&hellip;</td></tr><tr><td>710000</td></tr><tr><td>575000</td></tr><tr><td>600000</td></tr><tr><td>620000</td></tr><tr><td>695000</td></tr></tbody></table></div>"
      ],
      "text/plain": [
       "shape: (13,)\n",
       "Series: 'price' [i64]\n",
       "[\n",
       "\t550000\n",
       "\t565000\n",
       "\t610000\n",
       "\t680000\n",
       "\t725000\n",
       "\t…\n",
       "\t710000\n",
       "\t575000\n",
       "\t600000\n",
       "\t620000\n",
       "\t695000\n",
       "]"
      ]
     },
     "execution_count": 40,
     "metadata": {},
     "output_type": "execute_result"
    }
   ],
   "source": [
    "y = merged['price']\n",
    "y "
   ]
  },
  {
   "cell_type": "code",
   "execution_count": 41,
   "metadata": {},
   "outputs": [
    {
     "data": {
      "text/html": [
       "<style>#sk-container-id-1 {\n",
       "  /* Definition of color scheme common for light and dark mode */\n",
       "  --sklearn-color-text: black;\n",
       "  --sklearn-color-line: gray;\n",
       "  /* Definition of color scheme for unfitted estimators */\n",
       "  --sklearn-color-unfitted-level-0: #fff5e6;\n",
       "  --sklearn-color-unfitted-level-1: #f6e4d2;\n",
       "  --sklearn-color-unfitted-level-2: #ffe0b3;\n",
       "  --sklearn-color-unfitted-level-3: chocolate;\n",
       "  /* Definition of color scheme for fitted estimators */\n",
       "  --sklearn-color-fitted-level-0: #f0f8ff;\n",
       "  --sklearn-color-fitted-level-1: #d4ebff;\n",
       "  --sklearn-color-fitted-level-2: #b3dbfd;\n",
       "  --sklearn-color-fitted-level-3: cornflowerblue;\n",
       "\n",
       "  /* Specific color for light theme */\n",
       "  --sklearn-color-text-on-default-background: var(--sg-text-color, var(--theme-code-foreground, var(--jp-content-font-color1, black)));\n",
       "  --sklearn-color-background: var(--sg-background-color, var(--theme-background, var(--jp-layout-color0, white)));\n",
       "  --sklearn-color-border-box: var(--sg-text-color, var(--theme-code-foreground, var(--jp-content-font-color1, black)));\n",
       "  --sklearn-color-icon: #696969;\n",
       "\n",
       "  @media (prefers-color-scheme: dark) {\n",
       "    /* Redefinition of color scheme for dark theme */\n",
       "    --sklearn-color-text-on-default-background: var(--sg-text-color, var(--theme-code-foreground, var(--jp-content-font-color1, white)));\n",
       "    --sklearn-color-background: var(--sg-background-color, var(--theme-background, var(--jp-layout-color0, #111)));\n",
       "    --sklearn-color-border-box: var(--sg-text-color, var(--theme-code-foreground, var(--jp-content-font-color1, white)));\n",
       "    --sklearn-color-icon: #878787;\n",
       "  }\n",
       "}\n",
       "\n",
       "#sk-container-id-1 {\n",
       "  color: var(--sklearn-color-text);\n",
       "}\n",
       "\n",
       "#sk-container-id-1 pre {\n",
       "  padding: 0;\n",
       "}\n",
       "\n",
       "#sk-container-id-1 input.sk-hidden--visually {\n",
       "  border: 0;\n",
       "  clip: rect(1px 1px 1px 1px);\n",
       "  clip: rect(1px, 1px, 1px, 1px);\n",
       "  height: 1px;\n",
       "  margin: -1px;\n",
       "  overflow: hidden;\n",
       "  padding: 0;\n",
       "  position: absolute;\n",
       "  width: 1px;\n",
       "}\n",
       "\n",
       "#sk-container-id-1 div.sk-dashed-wrapped {\n",
       "  border: 1px dashed var(--sklearn-color-line);\n",
       "  margin: 0 0.4em 0.5em 0.4em;\n",
       "  box-sizing: border-box;\n",
       "  padding-bottom: 0.4em;\n",
       "  background-color: var(--sklearn-color-background);\n",
       "}\n",
       "\n",
       "#sk-container-id-1 div.sk-container {\n",
       "  /* jupyter's `normalize.less` sets `[hidden] { display: none; }`\n",
       "     but bootstrap.min.css set `[hidden] { display: none !important; }`\n",
       "     so we also need the `!important` here to be able to override the\n",
       "     default hidden behavior on the sphinx rendered scikit-learn.org.\n",
       "     See: https://github.com/scikit-learn/scikit-learn/issues/21755 */\n",
       "  display: inline-block !important;\n",
       "  position: relative;\n",
       "}\n",
       "\n",
       "#sk-container-id-1 div.sk-text-repr-fallback {\n",
       "  display: none;\n",
       "}\n",
       "\n",
       "div.sk-parallel-item,\n",
       "div.sk-serial,\n",
       "div.sk-item {\n",
       "  /* draw centered vertical line to link estimators */\n",
       "  background-image: linear-gradient(var(--sklearn-color-text-on-default-background), var(--sklearn-color-text-on-default-background));\n",
       "  background-size: 2px 100%;\n",
       "  background-repeat: no-repeat;\n",
       "  background-position: center center;\n",
       "}\n",
       "\n",
       "/* Parallel-specific style estimator block */\n",
       "\n",
       "#sk-container-id-1 div.sk-parallel-item::after {\n",
       "  content: \"\";\n",
       "  width: 100%;\n",
       "  border-bottom: 2px solid var(--sklearn-color-text-on-default-background);\n",
       "  flex-grow: 1;\n",
       "}\n",
       "\n",
       "#sk-container-id-1 div.sk-parallel {\n",
       "  display: flex;\n",
       "  align-items: stretch;\n",
       "  justify-content: center;\n",
       "  background-color: var(--sklearn-color-background);\n",
       "  position: relative;\n",
       "}\n",
       "\n",
       "#sk-container-id-1 div.sk-parallel-item {\n",
       "  display: flex;\n",
       "  flex-direction: column;\n",
       "}\n",
       "\n",
       "#sk-container-id-1 div.sk-parallel-item:first-child::after {\n",
       "  align-self: flex-end;\n",
       "  width: 50%;\n",
       "}\n",
       "\n",
       "#sk-container-id-1 div.sk-parallel-item:last-child::after {\n",
       "  align-self: flex-start;\n",
       "  width: 50%;\n",
       "}\n",
       "\n",
       "#sk-container-id-1 div.sk-parallel-item:only-child::after {\n",
       "  width: 0;\n",
       "}\n",
       "\n",
       "/* Serial-specific style estimator block */\n",
       "\n",
       "#sk-container-id-1 div.sk-serial {\n",
       "  display: flex;\n",
       "  flex-direction: column;\n",
       "  align-items: center;\n",
       "  background-color: var(--sklearn-color-background);\n",
       "  padding-right: 1em;\n",
       "  padding-left: 1em;\n",
       "}\n",
       "\n",
       "\n",
       "/* Toggleable style: style used for estimator/Pipeline/ColumnTransformer box that is\n",
       "clickable and can be expanded/collapsed.\n",
       "- Pipeline and ColumnTransformer use this feature and define the default style\n",
       "- Estimators will overwrite some part of the style using the `sk-estimator` class\n",
       "*/\n",
       "\n",
       "/* Pipeline and ColumnTransformer style (default) */\n",
       "\n",
       "#sk-container-id-1 div.sk-toggleable {\n",
       "  /* Default theme specific background. It is overwritten whether we have a\n",
       "  specific estimator or a Pipeline/ColumnTransformer */\n",
       "  background-color: var(--sklearn-color-background);\n",
       "}\n",
       "\n",
       "/* Toggleable label */\n",
       "#sk-container-id-1 label.sk-toggleable__label {\n",
       "  cursor: pointer;\n",
       "  display: block;\n",
       "  width: 100%;\n",
       "  margin-bottom: 0;\n",
       "  padding: 0.5em;\n",
       "  box-sizing: border-box;\n",
       "  text-align: center;\n",
       "}\n",
       "\n",
       "#sk-container-id-1 label.sk-toggleable__label-arrow:before {\n",
       "  /* Arrow on the left of the label */\n",
       "  content: \"▸\";\n",
       "  float: left;\n",
       "  margin-right: 0.25em;\n",
       "  color: var(--sklearn-color-icon);\n",
       "}\n",
       "\n",
       "#sk-container-id-1 label.sk-toggleable__label-arrow:hover:before {\n",
       "  color: var(--sklearn-color-text);\n",
       "}\n",
       "\n",
       "/* Toggleable content - dropdown */\n",
       "\n",
       "#sk-container-id-1 div.sk-toggleable__content {\n",
       "  max-height: 0;\n",
       "  max-width: 0;\n",
       "  overflow: hidden;\n",
       "  text-align: left;\n",
       "  /* unfitted */\n",
       "  background-color: var(--sklearn-color-unfitted-level-0);\n",
       "}\n",
       "\n",
       "#sk-container-id-1 div.sk-toggleable__content.fitted {\n",
       "  /* fitted */\n",
       "  background-color: var(--sklearn-color-fitted-level-0);\n",
       "}\n",
       "\n",
       "#sk-container-id-1 div.sk-toggleable__content pre {\n",
       "  margin: 0.2em;\n",
       "  border-radius: 0.25em;\n",
       "  color: var(--sklearn-color-text);\n",
       "  /* unfitted */\n",
       "  background-color: var(--sklearn-color-unfitted-level-0);\n",
       "}\n",
       "\n",
       "#sk-container-id-1 div.sk-toggleable__content.fitted pre {\n",
       "  /* unfitted */\n",
       "  background-color: var(--sklearn-color-fitted-level-0);\n",
       "}\n",
       "\n",
       "#sk-container-id-1 input.sk-toggleable__control:checked~div.sk-toggleable__content {\n",
       "  /* Expand drop-down */\n",
       "  max-height: 200px;\n",
       "  max-width: 100%;\n",
       "  overflow: auto;\n",
       "}\n",
       "\n",
       "#sk-container-id-1 input.sk-toggleable__control:checked~label.sk-toggleable__label-arrow:before {\n",
       "  content: \"▾\";\n",
       "}\n",
       "\n",
       "/* Pipeline/ColumnTransformer-specific style */\n",
       "\n",
       "#sk-container-id-1 div.sk-label input.sk-toggleable__control:checked~label.sk-toggleable__label {\n",
       "  color: var(--sklearn-color-text);\n",
       "  background-color: var(--sklearn-color-unfitted-level-2);\n",
       "}\n",
       "\n",
       "#sk-container-id-1 div.sk-label.fitted input.sk-toggleable__control:checked~label.sk-toggleable__label {\n",
       "  background-color: var(--sklearn-color-fitted-level-2);\n",
       "}\n",
       "\n",
       "/* Estimator-specific style */\n",
       "\n",
       "/* Colorize estimator box */\n",
       "#sk-container-id-1 div.sk-estimator input.sk-toggleable__control:checked~label.sk-toggleable__label {\n",
       "  /* unfitted */\n",
       "  background-color: var(--sklearn-color-unfitted-level-2);\n",
       "}\n",
       "\n",
       "#sk-container-id-1 div.sk-estimator.fitted input.sk-toggleable__control:checked~label.sk-toggleable__label {\n",
       "  /* fitted */\n",
       "  background-color: var(--sklearn-color-fitted-level-2);\n",
       "}\n",
       "\n",
       "#sk-container-id-1 div.sk-label label.sk-toggleable__label,\n",
       "#sk-container-id-1 div.sk-label label {\n",
       "  /* The background is the default theme color */\n",
       "  color: var(--sklearn-color-text-on-default-background);\n",
       "}\n",
       "\n",
       "/* On hover, darken the color of the background */\n",
       "#sk-container-id-1 div.sk-label:hover label.sk-toggleable__label {\n",
       "  color: var(--sklearn-color-text);\n",
       "  background-color: var(--sklearn-color-unfitted-level-2);\n",
       "}\n",
       "\n",
       "/* Label box, darken color on hover, fitted */\n",
       "#sk-container-id-1 div.sk-label.fitted:hover label.sk-toggleable__label.fitted {\n",
       "  color: var(--sklearn-color-text);\n",
       "  background-color: var(--sklearn-color-fitted-level-2);\n",
       "}\n",
       "\n",
       "/* Estimator label */\n",
       "\n",
       "#sk-container-id-1 div.sk-label label {\n",
       "  font-family: monospace;\n",
       "  font-weight: bold;\n",
       "  display: inline-block;\n",
       "  line-height: 1.2em;\n",
       "}\n",
       "\n",
       "#sk-container-id-1 div.sk-label-container {\n",
       "  text-align: center;\n",
       "}\n",
       "\n",
       "/* Estimator-specific */\n",
       "#sk-container-id-1 div.sk-estimator {\n",
       "  font-family: monospace;\n",
       "  border: 1px dotted var(--sklearn-color-border-box);\n",
       "  border-radius: 0.25em;\n",
       "  box-sizing: border-box;\n",
       "  margin-bottom: 0.5em;\n",
       "  /* unfitted */\n",
       "  background-color: var(--sklearn-color-unfitted-level-0);\n",
       "}\n",
       "\n",
       "#sk-container-id-1 div.sk-estimator.fitted {\n",
       "  /* fitted */\n",
       "  background-color: var(--sklearn-color-fitted-level-0);\n",
       "}\n",
       "\n",
       "/* on hover */\n",
       "#sk-container-id-1 div.sk-estimator:hover {\n",
       "  /* unfitted */\n",
       "  background-color: var(--sklearn-color-unfitted-level-2);\n",
       "}\n",
       "\n",
       "#sk-container-id-1 div.sk-estimator.fitted:hover {\n",
       "  /* fitted */\n",
       "  background-color: var(--sklearn-color-fitted-level-2);\n",
       "}\n",
       "\n",
       "/* Specification for estimator info (e.g. \"i\" and \"?\") */\n",
       "\n",
       "/* Common style for \"i\" and \"?\" */\n",
       "\n",
       ".sk-estimator-doc-link,\n",
       "a:link.sk-estimator-doc-link,\n",
       "a:visited.sk-estimator-doc-link {\n",
       "  float: right;\n",
       "  font-size: smaller;\n",
       "  line-height: 1em;\n",
       "  font-family: monospace;\n",
       "  background-color: var(--sklearn-color-background);\n",
       "  border-radius: 1em;\n",
       "  height: 1em;\n",
       "  width: 1em;\n",
       "  text-decoration: none !important;\n",
       "  margin-left: 1ex;\n",
       "  /* unfitted */\n",
       "  border: var(--sklearn-color-unfitted-level-1) 1pt solid;\n",
       "  color: var(--sklearn-color-unfitted-level-1);\n",
       "}\n",
       "\n",
       ".sk-estimator-doc-link.fitted,\n",
       "a:link.sk-estimator-doc-link.fitted,\n",
       "a:visited.sk-estimator-doc-link.fitted {\n",
       "  /* fitted */\n",
       "  border: var(--sklearn-color-fitted-level-1) 1pt solid;\n",
       "  color: var(--sklearn-color-fitted-level-1);\n",
       "}\n",
       "\n",
       "/* On hover */\n",
       "div.sk-estimator:hover .sk-estimator-doc-link:hover,\n",
       ".sk-estimator-doc-link:hover,\n",
       "div.sk-label-container:hover .sk-estimator-doc-link:hover,\n",
       ".sk-estimator-doc-link:hover {\n",
       "  /* unfitted */\n",
       "  background-color: var(--sklearn-color-unfitted-level-3);\n",
       "  color: var(--sklearn-color-background);\n",
       "  text-decoration: none;\n",
       "}\n",
       "\n",
       "div.sk-estimator.fitted:hover .sk-estimator-doc-link.fitted:hover,\n",
       ".sk-estimator-doc-link.fitted:hover,\n",
       "div.sk-label-container:hover .sk-estimator-doc-link.fitted:hover,\n",
       ".sk-estimator-doc-link.fitted:hover {\n",
       "  /* fitted */\n",
       "  background-color: var(--sklearn-color-fitted-level-3);\n",
       "  color: var(--sklearn-color-background);\n",
       "  text-decoration: none;\n",
       "}\n",
       "\n",
       "/* Span, style for the box shown on hovering the info icon */\n",
       ".sk-estimator-doc-link span {\n",
       "  display: none;\n",
       "  z-index: 9999;\n",
       "  position: relative;\n",
       "  font-weight: normal;\n",
       "  right: .2ex;\n",
       "  padding: .5ex;\n",
       "  margin: .5ex;\n",
       "  width: min-content;\n",
       "  min-width: 20ex;\n",
       "  max-width: 50ex;\n",
       "  color: var(--sklearn-color-text);\n",
       "  box-shadow: 2pt 2pt 4pt #999;\n",
       "  /* unfitted */\n",
       "  background: var(--sklearn-color-unfitted-level-0);\n",
       "  border: .5pt solid var(--sklearn-color-unfitted-level-3);\n",
       "}\n",
       "\n",
       ".sk-estimator-doc-link.fitted span {\n",
       "  /* fitted */\n",
       "  background: var(--sklearn-color-fitted-level-0);\n",
       "  border: var(--sklearn-color-fitted-level-3);\n",
       "}\n",
       "\n",
       ".sk-estimator-doc-link:hover span {\n",
       "  display: block;\n",
       "}\n",
       "\n",
       "/* \"?\"-specific style due to the `<a>` HTML tag */\n",
       "\n",
       "#sk-container-id-1 a.estimator_doc_link {\n",
       "  float: right;\n",
       "  font-size: 1rem;\n",
       "  line-height: 1em;\n",
       "  font-family: monospace;\n",
       "  background-color: var(--sklearn-color-background);\n",
       "  border-radius: 1rem;\n",
       "  height: 1rem;\n",
       "  width: 1rem;\n",
       "  text-decoration: none;\n",
       "  /* unfitted */\n",
       "  color: var(--sklearn-color-unfitted-level-1);\n",
       "  border: var(--sklearn-color-unfitted-level-1) 1pt solid;\n",
       "}\n",
       "\n",
       "#sk-container-id-1 a.estimator_doc_link.fitted {\n",
       "  /* fitted */\n",
       "  border: var(--sklearn-color-fitted-level-1) 1pt solid;\n",
       "  color: var(--sklearn-color-fitted-level-1);\n",
       "}\n",
       "\n",
       "/* On hover */\n",
       "#sk-container-id-1 a.estimator_doc_link:hover {\n",
       "  /* unfitted */\n",
       "  background-color: var(--sklearn-color-unfitted-level-3);\n",
       "  color: var(--sklearn-color-background);\n",
       "  text-decoration: none;\n",
       "}\n",
       "\n",
       "#sk-container-id-1 a.estimator_doc_link.fitted:hover {\n",
       "  /* fitted */\n",
       "  background-color: var(--sklearn-color-fitted-level-3);\n",
       "}\n",
       "</style><div id=\"sk-container-id-1\" class=\"sk-top-container\"><div class=\"sk-text-repr-fallback\"><pre>LinearRegression()</pre><b>In a Jupyter environment, please rerun this cell to show the HTML representation or trust the notebook. <br />On GitHub, the HTML representation is unable to render, please try loading this page with nbviewer.org.</b></div><div class=\"sk-container\" hidden><div class=\"sk-item\"><div class=\"sk-estimator fitted sk-toggleable\"><input class=\"sk-toggleable__control sk-hidden--visually\" id=\"sk-estimator-id-1\" type=\"checkbox\" checked><label for=\"sk-estimator-id-1\" class=\"sk-toggleable__label fitted sk-toggleable__label-arrow fitted\">&nbsp;&nbsp;LinearRegression<a class=\"sk-estimator-doc-link fitted\" rel=\"noreferrer\" target=\"_blank\" href=\"https://scikit-learn.org/1.5/modules/generated/sklearn.linear_model.LinearRegression.html\">?<span>Documentation for LinearRegression</span></a><span class=\"sk-estimator-doc-link fitted\">i<span>Fitted</span></span></label><div class=\"sk-toggleable__content fitted\"><pre>LinearRegression()</pre></div> </div></div></div></div>"
      ],
      "text/plain": [
       "LinearRegression()"
      ]
     },
     "execution_count": 41,
     "metadata": {},
     "output_type": "execute_result"
    }
   ],
   "source": [
    "model.fit(X, y)"
   ]
  },
  {
   "cell_type": "code",
   "execution_count": 43,
   "metadata": {},
   "outputs": [
    {
     "name": "stderr",
     "output_type": "stream",
     "text": [
      "/Library/Frameworks/Python.framework/Versions/3.12/lib/python3.12/site-packages/sklearn/base.py:493: UserWarning: X does not have valid feature names, but LinearRegression was fitted with feature names\n",
      "  warnings.warn(\n"
     ]
    },
    {
     "data": {
      "text/plain": [
       "array([590775.63964739])"
      ]
     },
     "execution_count": 43,
     "metadata": {},
     "output_type": "execute_result"
    }
   ],
   "source": [
    "model.predict([[2800, 0, 1]])"
   ]
  },
  {
   "cell_type": "code",
   "execution_count": 44,
   "metadata": {},
   "outputs": [
    {
     "name": "stderr",
     "output_type": "stream",
     "text": [
      "/Library/Frameworks/Python.framework/Versions/3.12/lib/python3.12/site-packages/sklearn/base.py:493: UserWarning: X does not have valid feature names, but LinearRegression was fitted with feature names\n",
      "  warnings.warn(\n"
     ]
    },
    {
     "data": {
      "text/plain": [
       "array([681241.66845839])"
      ]
     },
     "execution_count": 44,
     "metadata": {},
     "output_type": "execute_result"
    }
   ],
   "source": [
    "model.predict([[3400, 0, 0]])\n"
   ]
  },
  {
   "cell_type": "code",
   "execution_count": 45,
   "metadata": {},
   "outputs": [
    {
     "data": {
      "text/plain": [
       "0.9573929037221873"
      ]
     },
     "execution_count": 45,
     "metadata": {},
     "output_type": "execute_result"
    }
   ],
   "source": [
    "model.score(X, y)"
   ]
  },
  {
   "cell_type": "markdown",
   "metadata": {},
   "source": [
    "## Using sklearn LabelEncoder()"
   ]
  },
  {
   "cell_type": "code",
   "execution_count": 6,
   "metadata": {},
   "outputs": [],
   "source": [
    "# Using LabelEncoder()\n",
    "le = LabelEncoder()"
   ]
  },
  {
   "cell_type": "code",
   "execution_count": 9,
   "metadata": {},
   "outputs": [],
   "source": [
    "# # if pandas\n",
    "# dfle = df\n",
    "# dfle['town'] = le.fit_transform(dfle['town'])\n",
    "# dfle "
   ]
  },
  {
   "cell_type": "code",
   "execution_count": 46,
   "metadata": {},
   "outputs": [
    {
     "data": {
      "text/html": [
       "<div><style>\n",
       ".dataframe > thead > tr,\n",
       ".dataframe > tbody > tr {\n",
       "  text-align: right;\n",
       "  white-space: pre-wrap;\n",
       "}\n",
       "</style>\n",
       "<small>shape: (13, 3)</small><table border=\"1\" class=\"dataframe\"><thead><tr><th>town</th><th>area</th><th>price</th></tr><tr><td>i64</td><td>i64</td><td>i64</td></tr></thead><tbody><tr><td>0</td><td>2600</td><td>550000</td></tr><tr><td>0</td><td>3000</td><td>565000</td></tr><tr><td>0</td><td>3200</td><td>610000</td></tr><tr><td>0</td><td>3600</td><td>680000</td></tr><tr><td>0</td><td>4000</td><td>725000</td></tr><tr><td>&hellip;</td><td>&hellip;</td><td>&hellip;</td></tr><tr><td>2</td><td>3600</td><td>710000</td></tr><tr><td>1</td><td>2600</td><td>575000</td></tr><tr><td>1</td><td>2900</td><td>600000</td></tr><tr><td>1</td><td>3100</td><td>620000</td></tr><tr><td>1</td><td>3600</td><td>695000</td></tr></tbody></table></div>"
      ],
      "text/plain": [
       "shape: (13, 3)\n",
       "┌──────┬──────┬────────┐\n",
       "│ town ┆ area ┆ price  │\n",
       "│ ---  ┆ ---  ┆ ---    │\n",
       "│ i64  ┆ i64  ┆ i64    │\n",
       "╞══════╪══════╪════════╡\n",
       "│ 0    ┆ 2600 ┆ 550000 │\n",
       "│ 0    ┆ 3000 ┆ 565000 │\n",
       "│ 0    ┆ 3200 ┆ 610000 │\n",
       "│ 0    ┆ 3600 ┆ 680000 │\n",
       "│ 0    ┆ 4000 ┆ 725000 │\n",
       "│ …    ┆ …    ┆ …      │\n",
       "│ 2    ┆ 3600 ┆ 710000 │\n",
       "│ 1    ┆ 2600 ┆ 575000 │\n",
       "│ 1    ┆ 2900 ┆ 600000 │\n",
       "│ 1    ┆ 3100 ┆ 620000 │\n",
       "│ 1    ┆ 3600 ┆ 695000 │\n",
       "└──────┴──────┴────────┘"
      ]
     },
     "execution_count": 46,
     "metadata": {},
     "output_type": "execute_result"
    }
   ],
   "source": [
    "# for polars df \n",
    "dfle = df \n",
    "dfle = dfle.with_columns(\n",
    "    pl.Series('town', le.fit_transform(dfle['town'].to_list()))\n",
    ")\n",
    "\n",
    "\n",
    "dfle "
   ]
  },
  {
   "cell_type": "code",
   "execution_count": 77,
   "metadata": {},
   "outputs": [
    {
     "data": {
      "text/html": [
       "<div><style>\n",
       ".dataframe > thead > tr,\n",
       ".dataframe > tbody > tr {\n",
       "  text-align: right;\n",
       "  white-space: pre-wrap;\n",
       "}\n",
       "</style>\n",
       "<small>shape: (13, 2)</small><table border=\"1\" class=\"dataframe\"><thead><tr><th>town</th><th>area</th></tr><tr><td>i64</td><td>i64</td></tr></thead><tbody><tr><td>0</td><td>2600</td></tr><tr><td>0</td><td>3000</td></tr><tr><td>0</td><td>3200</td></tr><tr><td>0</td><td>3600</td></tr><tr><td>0</td><td>4000</td></tr><tr><td>&hellip;</td><td>&hellip;</td></tr><tr><td>2</td><td>3600</td></tr><tr><td>1</td><td>2600</td></tr><tr><td>1</td><td>2900</td></tr><tr><td>1</td><td>3100</td></tr><tr><td>1</td><td>3600</td></tr></tbody></table></div>"
      ],
      "text/plain": [
       "shape: (13, 2)\n",
       "┌──────┬──────┐\n",
       "│ town ┆ area │\n",
       "│ ---  ┆ ---  │\n",
       "│ i64  ┆ i64  │\n",
       "╞══════╪══════╡\n",
       "│ 0    ┆ 2600 │\n",
       "│ 0    ┆ 3000 │\n",
       "│ 0    ┆ 3200 │\n",
       "│ 0    ┆ 3600 │\n",
       "│ 0    ┆ 4000 │\n",
       "│ …    ┆ …    │\n",
       "│ 2    ┆ 3600 │\n",
       "│ 1    ┆ 2600 │\n",
       "│ 1    ┆ 2900 │\n",
       "│ 1    ┆ 3100 │\n",
       "│ 1    ┆ 3600 │\n",
       "└──────┴──────┘"
      ]
     },
     "execution_count": 77,
     "metadata": {},
     "output_type": "execute_result"
    }
   ],
   "source": [
    "X = dfle['town', 'area']\n",
    "X.to_pandas()\n",
    "X"
   ]
  },
  {
   "cell_type": "code",
   "execution_count": 64,
   "metadata": {},
   "outputs": [
    {
     "data": {
      "text/html": [
       "<div><style>\n",
       ".dataframe > thead > tr,\n",
       ".dataframe > tbody > tr {\n",
       "  text-align: right;\n",
       "  white-space: pre-wrap;\n",
       "}\n",
       "</style>\n",
       "<small>shape: (13,)</small><table border=\"1\" class=\"dataframe\"><thead><tr><th>price</th></tr><tr><td>i64</td></tr></thead><tbody><tr><td>550000</td></tr><tr><td>565000</td></tr><tr><td>610000</td></tr><tr><td>680000</td></tr><tr><td>725000</td></tr><tr><td>&hellip;</td></tr><tr><td>710000</td></tr><tr><td>575000</td></tr><tr><td>600000</td></tr><tr><td>620000</td></tr><tr><td>695000</td></tr></tbody></table></div>"
      ],
      "text/plain": [
       "shape: (13,)\n",
       "Series: 'price' [i64]\n",
       "[\n",
       "\t550000\n",
       "\t565000\n",
       "\t610000\n",
       "\t680000\n",
       "\t725000\n",
       "\t…\n",
       "\t710000\n",
       "\t575000\n",
       "\t600000\n",
       "\t620000\n",
       "\t695000\n",
       "]"
      ]
     },
     "execution_count": 64,
     "metadata": {},
     "output_type": "execute_result"
    }
   ],
   "source": [
    "y = dfle['price']\n",
    "y"
   ]
  },
  {
   "cell_type": "code",
   "execution_count": 78,
   "metadata": {},
   "outputs": [],
   "source": [
    "ct = ColumnTransformer([(\"town\", OneHotEncoder(), [0])], remainder = 'passthrough')"
   ]
  },
  {
   "cell_type": "code",
   "execution_count": 80,
   "metadata": {},
   "outputs": [],
   "source": [
    "# X = ct.fit_transform(X)\n",
    "# X \n"
   ]
  },
  {
   "cell_type": "markdown",
   "metadata": {},
   "source": [
    "## Car Prices"
   ]
  },
  {
   "cell_type": "code",
   "execution_count": 81,
   "metadata": {},
   "outputs": [],
   "source": [
    "# Predict prices of:\n",
    "# 1. Mercedes, 4 yrs old, 45k mileage\n",
    "# 2. BMW X5, 7 yrs old, 86k mileage\n",
    "# 3. get score() of model \n"
   ]
  },
  {
   "cell_type": "code",
   "execution_count": 83,
   "metadata": {},
   "outputs": [],
   "source": [
    "import pandas as pd \n",
    "import polars as pl \n",
    "from sklearn.linear_model import LinearRegression"
   ]
  },
  {
   "cell_type": "code",
   "execution_count": 84,
   "metadata": {},
   "outputs": [
    {
     "data": {
      "text/html": [
       "<div><style>\n",
       ".dataframe > thead > tr,\n",
       ".dataframe > tbody > tr {\n",
       "  text-align: right;\n",
       "  white-space: pre-wrap;\n",
       "}\n",
       "</style>\n",
       "<small>shape: (13, 4)</small><table border=\"1\" class=\"dataframe\"><thead><tr><th>Car Model</th><th>Mileage</th><th>Sell Price($)</th><th>Age(yrs)</th></tr><tr><td>str</td><td>i64</td><td>i64</td><td>i64</td></tr></thead><tbody><tr><td>&quot;BMW X5&quot;</td><td>69000</td><td>18000</td><td>6</td></tr><tr><td>&quot;BMW X5&quot;</td><td>35000</td><td>34000</td><td>3</td></tr><tr><td>&quot;BMW X5&quot;</td><td>57000</td><td>26100</td><td>5</td></tr><tr><td>&quot;BMW X5&quot;</td><td>22500</td><td>40000</td><td>2</td></tr><tr><td>&quot;BMW X5&quot;</td><td>46000</td><td>31500</td><td>4</td></tr><tr><td>&hellip;</td><td>&hellip;</td><td>&hellip;</td><td>&hellip;</td></tr><tr><td>&quot;Audi A5&quot;</td><td>91000</td><td>12000</td><td>8</td></tr><tr><td>&quot;Mercedez Benz C class&quot;</td><td>67000</td><td>22000</td><td>6</td></tr><tr><td>&quot;Mercedez Benz C class&quot;</td><td>83000</td><td>20000</td><td>7</td></tr><tr><td>&quot;Mercedez Benz C class&quot;</td><td>79000</td><td>21000</td><td>7</td></tr><tr><td>&quot;Mercedez Benz C class&quot;</td><td>59000</td><td>33000</td><td>5</td></tr></tbody></table></div>"
      ],
      "text/plain": [
       "shape: (13, 4)\n",
       "┌───────────────────────┬─────────┬───────────────┬──────────┐\n",
       "│ Car Model             ┆ Mileage ┆ Sell Price($) ┆ Age(yrs) │\n",
       "│ ---                   ┆ ---     ┆ ---           ┆ ---      │\n",
       "│ str                   ┆ i64     ┆ i64           ┆ i64      │\n",
       "╞═══════════════════════╪═════════╪═══════════════╪══════════╡\n",
       "│ BMW X5                ┆ 69000   ┆ 18000         ┆ 6        │\n",
       "│ BMW X5                ┆ 35000   ┆ 34000         ┆ 3        │\n",
       "│ BMW X5                ┆ 57000   ┆ 26100         ┆ 5        │\n",
       "│ BMW X5                ┆ 22500   ┆ 40000         ┆ 2        │\n",
       "│ BMW X5                ┆ 46000   ┆ 31500         ┆ 4        │\n",
       "│ …                     ┆ …       ┆ …             ┆ …        │\n",
       "│ Audi A5               ┆ 91000   ┆ 12000         ┆ 8        │\n",
       "│ Mercedez Benz C class ┆ 67000   ┆ 22000         ┆ 6        │\n",
       "│ Mercedez Benz C class ┆ 83000   ┆ 20000         ┆ 7        │\n",
       "│ Mercedez Benz C class ┆ 79000   ┆ 21000         ┆ 7        │\n",
       "│ Mercedez Benz C class ┆ 59000   ┆ 33000         ┆ 5        │\n",
       "└───────────────────────┴─────────┴───────────────┴──────────┘"
      ]
     },
     "execution_count": 84,
     "metadata": {},
     "output_type": "execute_result"
    }
   ],
   "source": [
    "df = pl.read_csv('carprices.csv')\n",
    "df "
   ]
  },
  {
   "cell_type": "code",
   "execution_count": 85,
   "metadata": {},
   "outputs": [
    {
     "data": {
      "text/html": [
       "<div><style>\n",
       ".dataframe > thead > tr,\n",
       ".dataframe > tbody > tr {\n",
       "  text-align: right;\n",
       "  white-space: pre-wrap;\n",
       "}\n",
       "</style>\n",
       "<small>shape: (3,)</small><table border=\"1\" class=\"dataframe\"><thead><tr><th>Car Model</th></tr><tr><td>str</td></tr></thead><tbody><tr><td>&quot;BMW X5&quot;</td></tr><tr><td>&quot;Mercedez Benz C class&quot;</td></tr><tr><td>&quot;Audi A5&quot;</td></tr></tbody></table></div>"
      ],
      "text/plain": [
       "shape: (3,)\n",
       "Series: 'Car Model' [str]\n",
       "[\n",
       "\t\"BMW X5\"\n",
       "\t\"Mercedez Benz C class\"\n",
       "\t\"Audi A5\"\n",
       "]"
      ]
     },
     "execution_count": 85,
     "metadata": {},
     "output_type": "execute_result"
    }
   ],
   "source": [
    "df['Car Model'].unique()"
   ]
  },
  {
   "cell_type": "code",
   "execution_count": 87,
   "metadata": {},
   "outputs": [
    {
     "data": {
      "text/html": [
       "<div><style>\n",
       ".dataframe > thead > tr,\n",
       ".dataframe > tbody > tr {\n",
       "  text-align: right;\n",
       "  white-space: pre-wrap;\n",
       "}\n",
       "</style>\n",
       "<small>shape: (13, 3)</small><table border=\"1\" class=\"dataframe\"><thead><tr><th>Car Model_Audi A5</th><th>Car Model_BMW X5</th><th>Car Model_Mercedez Benz C class</th></tr><tr><td>u8</td><td>u8</td><td>u8</td></tr></thead><tbody><tr><td>0</td><td>1</td><td>0</td></tr><tr><td>0</td><td>1</td><td>0</td></tr><tr><td>0</td><td>1</td><td>0</td></tr><tr><td>0</td><td>1</td><td>0</td></tr><tr><td>0</td><td>1</td><td>0</td></tr><tr><td>&hellip;</td><td>&hellip;</td><td>&hellip;</td></tr><tr><td>1</td><td>0</td><td>0</td></tr><tr><td>0</td><td>0</td><td>1</td></tr><tr><td>0</td><td>0</td><td>1</td></tr><tr><td>0</td><td>0</td><td>1</td></tr><tr><td>0</td><td>0</td><td>1</td></tr></tbody></table></div>"
      ],
      "text/plain": [
       "shape: (13, 3)\n",
       "┌───────────────────┬──────────────────┬─────────────────────────────────┐\n",
       "│ Car Model_Audi A5 ┆ Car Model_BMW X5 ┆ Car Model_Mercedez Benz C clas… │\n",
       "│ ---               ┆ ---              ┆ ---                             │\n",
       "│ u8                ┆ u8               ┆ u8                              │\n",
       "╞═══════════════════╪══════════════════╪═════════════════════════════════╡\n",
       "│ 0                 ┆ 1                ┆ 0                               │\n",
       "│ 0                 ┆ 1                ┆ 0                               │\n",
       "│ 0                 ┆ 1                ┆ 0                               │\n",
       "│ 0                 ┆ 1                ┆ 0                               │\n",
       "│ 0                 ┆ 1                ┆ 0                               │\n",
       "│ …                 ┆ …                ┆ …                               │\n",
       "│ 1                 ┆ 0                ┆ 0                               │\n",
       "│ 0                 ┆ 0                ┆ 1                               │\n",
       "│ 0                 ┆ 0                ┆ 1                               │\n",
       "│ 0                 ┆ 0                ┆ 1                               │\n",
       "│ 0                 ┆ 0                ┆ 1                               │\n",
       "└───────────────────┴──────────────────┴─────────────────────────────────┘"
      ]
     },
     "execution_count": 87,
     "metadata": {},
     "output_type": "execute_result"
    }
   ],
   "source": [
    "dummies = df['Car Model'].to_dummies()\n",
    "dummies"
   ]
  },
  {
   "cell_type": "code",
   "execution_count": 88,
   "metadata": {},
   "outputs": [
    {
     "data": {
      "text/html": [
       "<div><style>\n",
       ".dataframe > thead > tr,\n",
       ".dataframe > tbody > tr {\n",
       "  text-align: right;\n",
       "  white-space: pre-wrap;\n",
       "}\n",
       "</style>\n",
       "<small>shape: (13, 7)</small><table border=\"1\" class=\"dataframe\"><thead><tr><th>Car Model</th><th>Mileage</th><th>Sell Price($)</th><th>Age(yrs)</th><th>Car Model_Audi A5</th><th>Car Model_BMW X5</th><th>Car Model_Mercedez Benz C class</th></tr><tr><td>str</td><td>i64</td><td>i64</td><td>i64</td><td>u8</td><td>u8</td><td>u8</td></tr></thead><tbody><tr><td>&quot;BMW X5&quot;</td><td>69000</td><td>18000</td><td>6</td><td>0</td><td>1</td><td>0</td></tr><tr><td>&quot;BMW X5&quot;</td><td>35000</td><td>34000</td><td>3</td><td>0</td><td>1</td><td>0</td></tr><tr><td>&quot;BMW X5&quot;</td><td>57000</td><td>26100</td><td>5</td><td>0</td><td>1</td><td>0</td></tr><tr><td>&quot;BMW X5&quot;</td><td>22500</td><td>40000</td><td>2</td><td>0</td><td>1</td><td>0</td></tr><tr><td>&quot;BMW X5&quot;</td><td>46000</td><td>31500</td><td>4</td><td>0</td><td>1</td><td>0</td></tr><tr><td>&hellip;</td><td>&hellip;</td><td>&hellip;</td><td>&hellip;</td><td>&hellip;</td><td>&hellip;</td><td>&hellip;</td></tr><tr><td>&quot;Audi A5&quot;</td><td>91000</td><td>12000</td><td>8</td><td>1</td><td>0</td><td>0</td></tr><tr><td>&quot;Mercedez Benz C class&quot;</td><td>67000</td><td>22000</td><td>6</td><td>0</td><td>0</td><td>1</td></tr><tr><td>&quot;Mercedez Benz C class&quot;</td><td>83000</td><td>20000</td><td>7</td><td>0</td><td>0</td><td>1</td></tr><tr><td>&quot;Mercedez Benz C class&quot;</td><td>79000</td><td>21000</td><td>7</td><td>0</td><td>0</td><td>1</td></tr><tr><td>&quot;Mercedez Benz C class&quot;</td><td>59000</td><td>33000</td><td>5</td><td>0</td><td>0</td><td>1</td></tr></tbody></table></div>"
      ],
      "text/plain": [
       "shape: (13, 7)\n",
       "┌────────────────┬─────────┬──────────┬──────────┬────────────────┬────────────────┬───────────────┐\n",
       "│ Car Model      ┆ Mileage ┆ Sell     ┆ Age(yrs) ┆ Car Model_Audi ┆ Car Model_BMW  ┆ Car Model_Mer │\n",
       "│ ---            ┆ ---     ┆ Price($) ┆ ---      ┆ A5             ┆ X5             ┆ cedez Benz C  │\n",
       "│ str            ┆ i64     ┆ ---      ┆ i64      ┆ ---            ┆ ---            ┆ clas…         │\n",
       "│                ┆         ┆ i64      ┆          ┆ u8             ┆ u8             ┆ ---           │\n",
       "│                ┆         ┆          ┆          ┆                ┆                ┆ u8            │\n",
       "╞════════════════╪═════════╪══════════╪══════════╪════════════════╪════════════════╪═══════════════╡\n",
       "│ BMW X5         ┆ 69000   ┆ 18000    ┆ 6        ┆ 0              ┆ 1              ┆ 0             │\n",
       "│ BMW X5         ┆ 35000   ┆ 34000    ┆ 3        ┆ 0              ┆ 1              ┆ 0             │\n",
       "│ BMW X5         ┆ 57000   ┆ 26100    ┆ 5        ┆ 0              ┆ 1              ┆ 0             │\n",
       "│ BMW X5         ┆ 22500   ┆ 40000    ┆ 2        ┆ 0              ┆ 1              ┆ 0             │\n",
       "│ BMW X5         ┆ 46000   ┆ 31500    ┆ 4        ┆ 0              ┆ 1              ┆ 0             │\n",
       "│ …              ┆ …       ┆ …        ┆ …        ┆ …              ┆ …              ┆ …             │\n",
       "│ Audi A5        ┆ 91000   ┆ 12000    ┆ 8        ┆ 1              ┆ 0              ┆ 0             │\n",
       "│ Mercedez Benz  ┆ 67000   ┆ 22000    ┆ 6        ┆ 0              ┆ 0              ┆ 1             │\n",
       "│ C class        ┆         ┆          ┆          ┆                ┆                ┆               │\n",
       "│ Mercedez Benz  ┆ 83000   ┆ 20000    ┆ 7        ┆ 0              ┆ 0              ┆ 1             │\n",
       "│ C class        ┆         ┆          ┆          ┆                ┆                ┆               │\n",
       "│ Mercedez Benz  ┆ 79000   ┆ 21000    ┆ 7        ┆ 0              ┆ 0              ┆ 1             │\n",
       "│ C class        ┆         ┆          ┆          ┆                ┆                ┆               │\n",
       "│ Mercedez Benz  ┆ 59000   ┆ 33000    ┆ 5        ┆ 0              ┆ 0              ┆ 1             │\n",
       "│ C class        ┆         ┆          ┆          ┆                ┆                ┆               │\n",
       "└────────────────┴─────────┴──────────┴──────────┴────────────────┴────────────────┴───────────────┘"
      ]
     },
     "execution_count": 88,
     "metadata": {},
     "output_type": "execute_result"
    }
   ],
   "source": [
    "df = pl.concat([df, dummies], how='horizontal')\n",
    "df "
   ]
  },
  {
   "cell_type": "code",
   "execution_count": 89,
   "metadata": {},
   "outputs": [
    {
     "data": {
      "text/html": [
       "<div><style>\n",
       ".dataframe > thead > tr,\n",
       ".dataframe > tbody > tr {\n",
       "  text-align: right;\n",
       "  white-space: pre-wrap;\n",
       "}\n",
       "</style>\n",
       "<small>shape: (13, 5)</small><table border=\"1\" class=\"dataframe\"><thead><tr><th>Mileage</th><th>Sell Price($)</th><th>Age(yrs)</th><th>Car Model_Audi A5</th><th>Car Model_BMW X5</th></tr><tr><td>i64</td><td>i64</td><td>i64</td><td>u8</td><td>u8</td></tr></thead><tbody><tr><td>69000</td><td>18000</td><td>6</td><td>0</td><td>1</td></tr><tr><td>35000</td><td>34000</td><td>3</td><td>0</td><td>1</td></tr><tr><td>57000</td><td>26100</td><td>5</td><td>0</td><td>1</td></tr><tr><td>22500</td><td>40000</td><td>2</td><td>0</td><td>1</td></tr><tr><td>46000</td><td>31500</td><td>4</td><td>0</td><td>1</td></tr><tr><td>&hellip;</td><td>&hellip;</td><td>&hellip;</td><td>&hellip;</td><td>&hellip;</td></tr><tr><td>91000</td><td>12000</td><td>8</td><td>1</td><td>0</td></tr><tr><td>67000</td><td>22000</td><td>6</td><td>0</td><td>0</td></tr><tr><td>83000</td><td>20000</td><td>7</td><td>0</td><td>0</td></tr><tr><td>79000</td><td>21000</td><td>7</td><td>0</td><td>0</td></tr><tr><td>59000</td><td>33000</td><td>5</td><td>0</td><td>0</td></tr></tbody></table></div>"
      ],
      "text/plain": [
       "shape: (13, 5)\n",
       "┌─────────┬───────────────┬──────────┬───────────────────┬──────────────────┐\n",
       "│ Mileage ┆ Sell Price($) ┆ Age(yrs) ┆ Car Model_Audi A5 ┆ Car Model_BMW X5 │\n",
       "│ ---     ┆ ---           ┆ ---      ┆ ---               ┆ ---              │\n",
       "│ i64     ┆ i64           ┆ i64      ┆ u8                ┆ u8               │\n",
       "╞═════════╪═══════════════╪══════════╪═══════════════════╪══════════════════╡\n",
       "│ 69000   ┆ 18000         ┆ 6        ┆ 0                 ┆ 1                │\n",
       "│ 35000   ┆ 34000         ┆ 3        ┆ 0                 ┆ 1                │\n",
       "│ 57000   ┆ 26100         ┆ 5        ┆ 0                 ┆ 1                │\n",
       "│ 22500   ┆ 40000         ┆ 2        ┆ 0                 ┆ 1                │\n",
       "│ 46000   ┆ 31500         ┆ 4        ┆ 0                 ┆ 1                │\n",
       "│ …       ┆ …             ┆ …        ┆ …                 ┆ …                │\n",
       "│ 91000   ┆ 12000         ┆ 8        ┆ 1                 ┆ 0                │\n",
       "│ 67000   ┆ 22000         ┆ 6        ┆ 0                 ┆ 0                │\n",
       "│ 83000   ┆ 20000         ┆ 7        ┆ 0                 ┆ 0                │\n",
       "│ 79000   ┆ 21000         ┆ 7        ┆ 0                 ┆ 0                │\n",
       "│ 59000   ┆ 33000         ┆ 5        ┆ 0                 ┆ 0                │\n",
       "└─────────┴───────────────┴──────────┴───────────────────┴──────────────────┘"
      ]
     },
     "execution_count": 89,
     "metadata": {},
     "output_type": "execute_result"
    }
   ],
   "source": [
    "df = df.drop(['Car Model', 'Car Model_Mercedez Benz C class'])\n",
    "df "
   ]
  },
  {
   "cell_type": "code",
   "execution_count": 90,
   "metadata": {},
   "outputs": [
    {
     "data": {
      "text/html": [
       "<div><style>\n",
       ".dataframe > thead > tr,\n",
       ".dataframe > tbody > tr {\n",
       "  text-align: right;\n",
       "  white-space: pre-wrap;\n",
       "}\n",
       "</style>\n",
       "<small>shape: (13, 4)</small><table border=\"1\" class=\"dataframe\"><thead><tr><th>Mileage</th><th>Age(yrs)</th><th>Car Model_Audi A5</th><th>Car Model_BMW X5</th></tr><tr><td>i64</td><td>i64</td><td>u8</td><td>u8</td></tr></thead><tbody><tr><td>69000</td><td>6</td><td>0</td><td>1</td></tr><tr><td>35000</td><td>3</td><td>0</td><td>1</td></tr><tr><td>57000</td><td>5</td><td>0</td><td>1</td></tr><tr><td>22500</td><td>2</td><td>0</td><td>1</td></tr><tr><td>46000</td><td>4</td><td>0</td><td>1</td></tr><tr><td>&hellip;</td><td>&hellip;</td><td>&hellip;</td><td>&hellip;</td></tr><tr><td>91000</td><td>8</td><td>1</td><td>0</td></tr><tr><td>67000</td><td>6</td><td>0</td><td>0</td></tr><tr><td>83000</td><td>7</td><td>0</td><td>0</td></tr><tr><td>79000</td><td>7</td><td>0</td><td>0</td></tr><tr><td>59000</td><td>5</td><td>0</td><td>0</td></tr></tbody></table></div>"
      ],
      "text/plain": [
       "shape: (13, 4)\n",
       "┌─────────┬──────────┬───────────────────┬──────────────────┐\n",
       "│ Mileage ┆ Age(yrs) ┆ Car Model_Audi A5 ┆ Car Model_BMW X5 │\n",
       "│ ---     ┆ ---      ┆ ---               ┆ ---              │\n",
       "│ i64     ┆ i64      ┆ u8                ┆ u8               │\n",
       "╞═════════╪══════════╪═══════════════════╪══════════════════╡\n",
       "│ 69000   ┆ 6        ┆ 0                 ┆ 1                │\n",
       "│ 35000   ┆ 3        ┆ 0                 ┆ 1                │\n",
       "│ 57000   ┆ 5        ┆ 0                 ┆ 1                │\n",
       "│ 22500   ┆ 2        ┆ 0                 ┆ 1                │\n",
       "│ 46000   ┆ 4        ┆ 0                 ┆ 1                │\n",
       "│ …       ┆ …        ┆ …                 ┆ …                │\n",
       "│ 91000   ┆ 8        ┆ 1                 ┆ 0                │\n",
       "│ 67000   ┆ 6        ┆ 0                 ┆ 0                │\n",
       "│ 83000   ┆ 7        ┆ 0                 ┆ 0                │\n",
       "│ 79000   ┆ 7        ┆ 0                 ┆ 0                │\n",
       "│ 59000   ┆ 5        ┆ 0                 ┆ 0                │\n",
       "└─────────┴──────────┴───────────────────┴──────────────────┘"
      ]
     },
     "execution_count": 90,
     "metadata": {},
     "output_type": "execute_result"
    }
   ],
   "source": [
    "X = df.drop('Sell Price($)')\n",
    "X "
   ]
  },
  {
   "cell_type": "code",
   "execution_count": 91,
   "metadata": {},
   "outputs": [
    {
     "data": {
      "text/html": [
       "<div><style>\n",
       ".dataframe > thead > tr,\n",
       ".dataframe > tbody > tr {\n",
       "  text-align: right;\n",
       "  white-space: pre-wrap;\n",
       "}\n",
       "</style>\n",
       "<small>shape: (13,)</small><table border=\"1\" class=\"dataframe\"><thead><tr><th>Sell Price($)</th></tr><tr><td>i64</td></tr></thead><tbody><tr><td>18000</td></tr><tr><td>34000</td></tr><tr><td>26100</td></tr><tr><td>40000</td></tr><tr><td>31500</td></tr><tr><td>&hellip;</td></tr><tr><td>12000</td></tr><tr><td>22000</td></tr><tr><td>20000</td></tr><tr><td>21000</td></tr><tr><td>33000</td></tr></tbody></table></div>"
      ],
      "text/plain": [
       "shape: (13,)\n",
       "Series: 'Sell Price($)' [i64]\n",
       "[\n",
       "\t18000\n",
       "\t34000\n",
       "\t26100\n",
       "\t40000\n",
       "\t31500\n",
       "\t…\n",
       "\t12000\n",
       "\t22000\n",
       "\t20000\n",
       "\t21000\n",
       "\t33000\n",
       "]"
      ]
     },
     "execution_count": 91,
     "metadata": {},
     "output_type": "execute_result"
    }
   ],
   "source": [
    "y = df['Sell Price($)']\n",
    "y"
   ]
  },
  {
   "cell_type": "code",
   "execution_count": 92,
   "metadata": {},
   "outputs": [],
   "source": [
    "model = LinearRegression()"
   ]
  },
  {
   "cell_type": "code",
   "execution_count": 93,
   "metadata": {},
   "outputs": [
    {
     "data": {
      "text/html": [
       "<style>#sk-container-id-2 {\n",
       "  /* Definition of color scheme common for light and dark mode */\n",
       "  --sklearn-color-text: black;\n",
       "  --sklearn-color-line: gray;\n",
       "  /* Definition of color scheme for unfitted estimators */\n",
       "  --sklearn-color-unfitted-level-0: #fff5e6;\n",
       "  --sklearn-color-unfitted-level-1: #f6e4d2;\n",
       "  --sklearn-color-unfitted-level-2: #ffe0b3;\n",
       "  --sklearn-color-unfitted-level-3: chocolate;\n",
       "  /* Definition of color scheme for fitted estimators */\n",
       "  --sklearn-color-fitted-level-0: #f0f8ff;\n",
       "  --sklearn-color-fitted-level-1: #d4ebff;\n",
       "  --sklearn-color-fitted-level-2: #b3dbfd;\n",
       "  --sklearn-color-fitted-level-3: cornflowerblue;\n",
       "\n",
       "  /* Specific color for light theme */\n",
       "  --sklearn-color-text-on-default-background: var(--sg-text-color, var(--theme-code-foreground, var(--jp-content-font-color1, black)));\n",
       "  --sklearn-color-background: var(--sg-background-color, var(--theme-background, var(--jp-layout-color0, white)));\n",
       "  --sklearn-color-border-box: var(--sg-text-color, var(--theme-code-foreground, var(--jp-content-font-color1, black)));\n",
       "  --sklearn-color-icon: #696969;\n",
       "\n",
       "  @media (prefers-color-scheme: dark) {\n",
       "    /* Redefinition of color scheme for dark theme */\n",
       "    --sklearn-color-text-on-default-background: var(--sg-text-color, var(--theme-code-foreground, var(--jp-content-font-color1, white)));\n",
       "    --sklearn-color-background: var(--sg-background-color, var(--theme-background, var(--jp-layout-color0, #111)));\n",
       "    --sklearn-color-border-box: var(--sg-text-color, var(--theme-code-foreground, var(--jp-content-font-color1, white)));\n",
       "    --sklearn-color-icon: #878787;\n",
       "  }\n",
       "}\n",
       "\n",
       "#sk-container-id-2 {\n",
       "  color: var(--sklearn-color-text);\n",
       "}\n",
       "\n",
       "#sk-container-id-2 pre {\n",
       "  padding: 0;\n",
       "}\n",
       "\n",
       "#sk-container-id-2 input.sk-hidden--visually {\n",
       "  border: 0;\n",
       "  clip: rect(1px 1px 1px 1px);\n",
       "  clip: rect(1px, 1px, 1px, 1px);\n",
       "  height: 1px;\n",
       "  margin: -1px;\n",
       "  overflow: hidden;\n",
       "  padding: 0;\n",
       "  position: absolute;\n",
       "  width: 1px;\n",
       "}\n",
       "\n",
       "#sk-container-id-2 div.sk-dashed-wrapped {\n",
       "  border: 1px dashed var(--sklearn-color-line);\n",
       "  margin: 0 0.4em 0.5em 0.4em;\n",
       "  box-sizing: border-box;\n",
       "  padding-bottom: 0.4em;\n",
       "  background-color: var(--sklearn-color-background);\n",
       "}\n",
       "\n",
       "#sk-container-id-2 div.sk-container {\n",
       "  /* jupyter's `normalize.less` sets `[hidden] { display: none; }`\n",
       "     but bootstrap.min.css set `[hidden] { display: none !important; }`\n",
       "     so we also need the `!important` here to be able to override the\n",
       "     default hidden behavior on the sphinx rendered scikit-learn.org.\n",
       "     See: https://github.com/scikit-learn/scikit-learn/issues/21755 */\n",
       "  display: inline-block !important;\n",
       "  position: relative;\n",
       "}\n",
       "\n",
       "#sk-container-id-2 div.sk-text-repr-fallback {\n",
       "  display: none;\n",
       "}\n",
       "\n",
       "div.sk-parallel-item,\n",
       "div.sk-serial,\n",
       "div.sk-item {\n",
       "  /* draw centered vertical line to link estimators */\n",
       "  background-image: linear-gradient(var(--sklearn-color-text-on-default-background), var(--sklearn-color-text-on-default-background));\n",
       "  background-size: 2px 100%;\n",
       "  background-repeat: no-repeat;\n",
       "  background-position: center center;\n",
       "}\n",
       "\n",
       "/* Parallel-specific style estimator block */\n",
       "\n",
       "#sk-container-id-2 div.sk-parallel-item::after {\n",
       "  content: \"\";\n",
       "  width: 100%;\n",
       "  border-bottom: 2px solid var(--sklearn-color-text-on-default-background);\n",
       "  flex-grow: 1;\n",
       "}\n",
       "\n",
       "#sk-container-id-2 div.sk-parallel {\n",
       "  display: flex;\n",
       "  align-items: stretch;\n",
       "  justify-content: center;\n",
       "  background-color: var(--sklearn-color-background);\n",
       "  position: relative;\n",
       "}\n",
       "\n",
       "#sk-container-id-2 div.sk-parallel-item {\n",
       "  display: flex;\n",
       "  flex-direction: column;\n",
       "}\n",
       "\n",
       "#sk-container-id-2 div.sk-parallel-item:first-child::after {\n",
       "  align-self: flex-end;\n",
       "  width: 50%;\n",
       "}\n",
       "\n",
       "#sk-container-id-2 div.sk-parallel-item:last-child::after {\n",
       "  align-self: flex-start;\n",
       "  width: 50%;\n",
       "}\n",
       "\n",
       "#sk-container-id-2 div.sk-parallel-item:only-child::after {\n",
       "  width: 0;\n",
       "}\n",
       "\n",
       "/* Serial-specific style estimator block */\n",
       "\n",
       "#sk-container-id-2 div.sk-serial {\n",
       "  display: flex;\n",
       "  flex-direction: column;\n",
       "  align-items: center;\n",
       "  background-color: var(--sklearn-color-background);\n",
       "  padding-right: 1em;\n",
       "  padding-left: 1em;\n",
       "}\n",
       "\n",
       "\n",
       "/* Toggleable style: style used for estimator/Pipeline/ColumnTransformer box that is\n",
       "clickable and can be expanded/collapsed.\n",
       "- Pipeline and ColumnTransformer use this feature and define the default style\n",
       "- Estimators will overwrite some part of the style using the `sk-estimator` class\n",
       "*/\n",
       "\n",
       "/* Pipeline and ColumnTransformer style (default) */\n",
       "\n",
       "#sk-container-id-2 div.sk-toggleable {\n",
       "  /* Default theme specific background. It is overwritten whether we have a\n",
       "  specific estimator or a Pipeline/ColumnTransformer */\n",
       "  background-color: var(--sklearn-color-background);\n",
       "}\n",
       "\n",
       "/* Toggleable label */\n",
       "#sk-container-id-2 label.sk-toggleable__label {\n",
       "  cursor: pointer;\n",
       "  display: block;\n",
       "  width: 100%;\n",
       "  margin-bottom: 0;\n",
       "  padding: 0.5em;\n",
       "  box-sizing: border-box;\n",
       "  text-align: center;\n",
       "}\n",
       "\n",
       "#sk-container-id-2 label.sk-toggleable__label-arrow:before {\n",
       "  /* Arrow on the left of the label */\n",
       "  content: \"▸\";\n",
       "  float: left;\n",
       "  margin-right: 0.25em;\n",
       "  color: var(--sklearn-color-icon);\n",
       "}\n",
       "\n",
       "#sk-container-id-2 label.sk-toggleable__label-arrow:hover:before {\n",
       "  color: var(--sklearn-color-text);\n",
       "}\n",
       "\n",
       "/* Toggleable content - dropdown */\n",
       "\n",
       "#sk-container-id-2 div.sk-toggleable__content {\n",
       "  max-height: 0;\n",
       "  max-width: 0;\n",
       "  overflow: hidden;\n",
       "  text-align: left;\n",
       "  /* unfitted */\n",
       "  background-color: var(--sklearn-color-unfitted-level-0);\n",
       "}\n",
       "\n",
       "#sk-container-id-2 div.sk-toggleable__content.fitted {\n",
       "  /* fitted */\n",
       "  background-color: var(--sklearn-color-fitted-level-0);\n",
       "}\n",
       "\n",
       "#sk-container-id-2 div.sk-toggleable__content pre {\n",
       "  margin: 0.2em;\n",
       "  border-radius: 0.25em;\n",
       "  color: var(--sklearn-color-text);\n",
       "  /* unfitted */\n",
       "  background-color: var(--sklearn-color-unfitted-level-0);\n",
       "}\n",
       "\n",
       "#sk-container-id-2 div.sk-toggleable__content.fitted pre {\n",
       "  /* unfitted */\n",
       "  background-color: var(--sklearn-color-fitted-level-0);\n",
       "}\n",
       "\n",
       "#sk-container-id-2 input.sk-toggleable__control:checked~div.sk-toggleable__content {\n",
       "  /* Expand drop-down */\n",
       "  max-height: 200px;\n",
       "  max-width: 100%;\n",
       "  overflow: auto;\n",
       "}\n",
       "\n",
       "#sk-container-id-2 input.sk-toggleable__control:checked~label.sk-toggleable__label-arrow:before {\n",
       "  content: \"▾\";\n",
       "}\n",
       "\n",
       "/* Pipeline/ColumnTransformer-specific style */\n",
       "\n",
       "#sk-container-id-2 div.sk-label input.sk-toggleable__control:checked~label.sk-toggleable__label {\n",
       "  color: var(--sklearn-color-text);\n",
       "  background-color: var(--sklearn-color-unfitted-level-2);\n",
       "}\n",
       "\n",
       "#sk-container-id-2 div.sk-label.fitted input.sk-toggleable__control:checked~label.sk-toggleable__label {\n",
       "  background-color: var(--sklearn-color-fitted-level-2);\n",
       "}\n",
       "\n",
       "/* Estimator-specific style */\n",
       "\n",
       "/* Colorize estimator box */\n",
       "#sk-container-id-2 div.sk-estimator input.sk-toggleable__control:checked~label.sk-toggleable__label {\n",
       "  /* unfitted */\n",
       "  background-color: var(--sklearn-color-unfitted-level-2);\n",
       "}\n",
       "\n",
       "#sk-container-id-2 div.sk-estimator.fitted input.sk-toggleable__control:checked~label.sk-toggleable__label {\n",
       "  /* fitted */\n",
       "  background-color: var(--sklearn-color-fitted-level-2);\n",
       "}\n",
       "\n",
       "#sk-container-id-2 div.sk-label label.sk-toggleable__label,\n",
       "#sk-container-id-2 div.sk-label label {\n",
       "  /* The background is the default theme color */\n",
       "  color: var(--sklearn-color-text-on-default-background);\n",
       "}\n",
       "\n",
       "/* On hover, darken the color of the background */\n",
       "#sk-container-id-2 div.sk-label:hover label.sk-toggleable__label {\n",
       "  color: var(--sklearn-color-text);\n",
       "  background-color: var(--sklearn-color-unfitted-level-2);\n",
       "}\n",
       "\n",
       "/* Label box, darken color on hover, fitted */\n",
       "#sk-container-id-2 div.sk-label.fitted:hover label.sk-toggleable__label.fitted {\n",
       "  color: var(--sklearn-color-text);\n",
       "  background-color: var(--sklearn-color-fitted-level-2);\n",
       "}\n",
       "\n",
       "/* Estimator label */\n",
       "\n",
       "#sk-container-id-2 div.sk-label label {\n",
       "  font-family: monospace;\n",
       "  font-weight: bold;\n",
       "  display: inline-block;\n",
       "  line-height: 1.2em;\n",
       "}\n",
       "\n",
       "#sk-container-id-2 div.sk-label-container {\n",
       "  text-align: center;\n",
       "}\n",
       "\n",
       "/* Estimator-specific */\n",
       "#sk-container-id-2 div.sk-estimator {\n",
       "  font-family: monospace;\n",
       "  border: 1px dotted var(--sklearn-color-border-box);\n",
       "  border-radius: 0.25em;\n",
       "  box-sizing: border-box;\n",
       "  margin-bottom: 0.5em;\n",
       "  /* unfitted */\n",
       "  background-color: var(--sklearn-color-unfitted-level-0);\n",
       "}\n",
       "\n",
       "#sk-container-id-2 div.sk-estimator.fitted {\n",
       "  /* fitted */\n",
       "  background-color: var(--sklearn-color-fitted-level-0);\n",
       "}\n",
       "\n",
       "/* on hover */\n",
       "#sk-container-id-2 div.sk-estimator:hover {\n",
       "  /* unfitted */\n",
       "  background-color: var(--sklearn-color-unfitted-level-2);\n",
       "}\n",
       "\n",
       "#sk-container-id-2 div.sk-estimator.fitted:hover {\n",
       "  /* fitted */\n",
       "  background-color: var(--sklearn-color-fitted-level-2);\n",
       "}\n",
       "\n",
       "/* Specification for estimator info (e.g. \"i\" and \"?\") */\n",
       "\n",
       "/* Common style for \"i\" and \"?\" */\n",
       "\n",
       ".sk-estimator-doc-link,\n",
       "a:link.sk-estimator-doc-link,\n",
       "a:visited.sk-estimator-doc-link {\n",
       "  float: right;\n",
       "  font-size: smaller;\n",
       "  line-height: 1em;\n",
       "  font-family: monospace;\n",
       "  background-color: var(--sklearn-color-background);\n",
       "  border-radius: 1em;\n",
       "  height: 1em;\n",
       "  width: 1em;\n",
       "  text-decoration: none !important;\n",
       "  margin-left: 1ex;\n",
       "  /* unfitted */\n",
       "  border: var(--sklearn-color-unfitted-level-1) 1pt solid;\n",
       "  color: var(--sklearn-color-unfitted-level-1);\n",
       "}\n",
       "\n",
       ".sk-estimator-doc-link.fitted,\n",
       "a:link.sk-estimator-doc-link.fitted,\n",
       "a:visited.sk-estimator-doc-link.fitted {\n",
       "  /* fitted */\n",
       "  border: var(--sklearn-color-fitted-level-1) 1pt solid;\n",
       "  color: var(--sklearn-color-fitted-level-1);\n",
       "}\n",
       "\n",
       "/* On hover */\n",
       "div.sk-estimator:hover .sk-estimator-doc-link:hover,\n",
       ".sk-estimator-doc-link:hover,\n",
       "div.sk-label-container:hover .sk-estimator-doc-link:hover,\n",
       ".sk-estimator-doc-link:hover {\n",
       "  /* unfitted */\n",
       "  background-color: var(--sklearn-color-unfitted-level-3);\n",
       "  color: var(--sklearn-color-background);\n",
       "  text-decoration: none;\n",
       "}\n",
       "\n",
       "div.sk-estimator.fitted:hover .sk-estimator-doc-link.fitted:hover,\n",
       ".sk-estimator-doc-link.fitted:hover,\n",
       "div.sk-label-container:hover .sk-estimator-doc-link.fitted:hover,\n",
       ".sk-estimator-doc-link.fitted:hover {\n",
       "  /* fitted */\n",
       "  background-color: var(--sklearn-color-fitted-level-3);\n",
       "  color: var(--sklearn-color-background);\n",
       "  text-decoration: none;\n",
       "}\n",
       "\n",
       "/* Span, style for the box shown on hovering the info icon */\n",
       ".sk-estimator-doc-link span {\n",
       "  display: none;\n",
       "  z-index: 9999;\n",
       "  position: relative;\n",
       "  font-weight: normal;\n",
       "  right: .2ex;\n",
       "  padding: .5ex;\n",
       "  margin: .5ex;\n",
       "  width: min-content;\n",
       "  min-width: 20ex;\n",
       "  max-width: 50ex;\n",
       "  color: var(--sklearn-color-text);\n",
       "  box-shadow: 2pt 2pt 4pt #999;\n",
       "  /* unfitted */\n",
       "  background: var(--sklearn-color-unfitted-level-0);\n",
       "  border: .5pt solid var(--sklearn-color-unfitted-level-3);\n",
       "}\n",
       "\n",
       ".sk-estimator-doc-link.fitted span {\n",
       "  /* fitted */\n",
       "  background: var(--sklearn-color-fitted-level-0);\n",
       "  border: var(--sklearn-color-fitted-level-3);\n",
       "}\n",
       "\n",
       ".sk-estimator-doc-link:hover span {\n",
       "  display: block;\n",
       "}\n",
       "\n",
       "/* \"?\"-specific style due to the `<a>` HTML tag */\n",
       "\n",
       "#sk-container-id-2 a.estimator_doc_link {\n",
       "  float: right;\n",
       "  font-size: 1rem;\n",
       "  line-height: 1em;\n",
       "  font-family: monospace;\n",
       "  background-color: var(--sklearn-color-background);\n",
       "  border-radius: 1rem;\n",
       "  height: 1rem;\n",
       "  width: 1rem;\n",
       "  text-decoration: none;\n",
       "  /* unfitted */\n",
       "  color: var(--sklearn-color-unfitted-level-1);\n",
       "  border: var(--sklearn-color-unfitted-level-1) 1pt solid;\n",
       "}\n",
       "\n",
       "#sk-container-id-2 a.estimator_doc_link.fitted {\n",
       "  /* fitted */\n",
       "  border: var(--sklearn-color-fitted-level-1) 1pt solid;\n",
       "  color: var(--sklearn-color-fitted-level-1);\n",
       "}\n",
       "\n",
       "/* On hover */\n",
       "#sk-container-id-2 a.estimator_doc_link:hover {\n",
       "  /* unfitted */\n",
       "  background-color: var(--sklearn-color-unfitted-level-3);\n",
       "  color: var(--sklearn-color-background);\n",
       "  text-decoration: none;\n",
       "}\n",
       "\n",
       "#sk-container-id-2 a.estimator_doc_link.fitted:hover {\n",
       "  /* fitted */\n",
       "  background-color: var(--sklearn-color-fitted-level-3);\n",
       "}\n",
       "</style><div id=\"sk-container-id-2\" class=\"sk-top-container\"><div class=\"sk-text-repr-fallback\"><pre>LinearRegression()</pre><b>In a Jupyter environment, please rerun this cell to show the HTML representation or trust the notebook. <br />On GitHub, the HTML representation is unable to render, please try loading this page with nbviewer.org.</b></div><div class=\"sk-container\" hidden><div class=\"sk-item\"><div class=\"sk-estimator fitted sk-toggleable\"><input class=\"sk-toggleable__control sk-hidden--visually\" id=\"sk-estimator-id-2\" type=\"checkbox\" checked><label for=\"sk-estimator-id-2\" class=\"sk-toggleable__label fitted sk-toggleable__label-arrow fitted\">&nbsp;&nbsp;LinearRegression<a class=\"sk-estimator-doc-link fitted\" rel=\"noreferrer\" target=\"_blank\" href=\"https://scikit-learn.org/1.5/modules/generated/sklearn.linear_model.LinearRegression.html\">?<span>Documentation for LinearRegression</span></a><span class=\"sk-estimator-doc-link fitted\">i<span>Fitted</span></span></label><div class=\"sk-toggleable__content fitted\"><pre>LinearRegression()</pre></div> </div></div></div></div>"
      ],
      "text/plain": [
       "LinearRegression()"
      ]
     },
     "execution_count": 93,
     "metadata": {},
     "output_type": "execute_result"
    }
   ],
   "source": [
    "model.fit(X, y)"
   ]
  },
  {
   "cell_type": "code",
   "execution_count": 94,
   "metadata": {},
   "outputs": [
    {
     "data": {
      "text/plain": [
       "0.9417050937281082"
      ]
     },
     "execution_count": 94,
     "metadata": {},
     "output_type": "execute_result"
    }
   ],
   "source": [
    "# 3. get score() of model \n",
    "model.score(X, y)"
   ]
  },
  {
   "cell_type": "code",
   "execution_count": 95,
   "metadata": {},
   "outputs": [
    {
     "name": "stderr",
     "output_type": "stream",
     "text": [
      "/Library/Frameworks/Python.framework/Versions/3.12/lib/python3.12/site-packages/sklearn/base.py:493: UserWarning: X does not have valid feature names, but LinearRegression was fitted with feature names\n",
      "  warnings.warn(\n"
     ]
    },
    {
     "data": {
      "text/plain": [
       "array([36991.31721061])"
      ]
     },
     "execution_count": 95,
     "metadata": {},
     "output_type": "execute_result"
    }
   ],
   "source": [
    "# 1. Mercedes, 4 yrs old, 45k mileage\n",
    "\n",
    "model.predict([[45000, 4, 0, 0]])"
   ]
  },
  {
   "cell_type": "code",
   "execution_count": 96,
   "metadata": {},
   "outputs": [
    {
     "name": "stderr",
     "output_type": "stream",
     "text": [
      "/Library/Frameworks/Python.framework/Versions/3.12/lib/python3.12/site-packages/sklearn/base.py:493: UserWarning: X does not have valid feature names, but LinearRegression was fitted with feature names\n",
      "  warnings.warn(\n"
     ]
    },
    {
     "data": {
      "text/plain": [
       "array([11080.74313219])"
      ]
     },
     "execution_count": 96,
     "metadata": {},
     "output_type": "execute_result"
    }
   ],
   "source": [
    "# 2. BMW X5, 7 yrs old, 86k mileage\n",
    "\n",
    "model.predict([[86000, 7, 0, 1]])"
   ]
  },
  {
   "cell_type": "code",
   "execution_count": null,
   "metadata": {},
   "outputs": [],
   "source": []
  },
  {
   "cell_type": "code",
   "execution_count": null,
   "metadata": {},
   "outputs": [],
   "source": []
  }
 ],
 "metadata": {
  "kernelspec": {
   "display_name": "Python 3",
   "language": "python",
   "name": "python3"
  },
  "language_info": {
   "codemirror_mode": {
    "name": "ipython",
    "version": 3
   },
   "file_extension": ".py",
   "mimetype": "text/x-python",
   "name": "python",
   "nbconvert_exporter": "python",
   "pygments_lexer": "ipython3",
   "version": "3.12.1"
  }
 },
 "nbformat": 4,
 "nbformat_minor": 2
}
